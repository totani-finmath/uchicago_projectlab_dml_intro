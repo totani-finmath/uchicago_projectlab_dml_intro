{
 "cells": [
  {
   "cell_type": "markdown",
   "metadata": {},
   "source": [
    "## Monte Carlo (with Importance Sampling) Pricing of FX Forward CVA under Vasicek Model"
   ]
  },
  {
   "cell_type": "markdown",
   "metadata": {},
   "source": [
    "Here we use unilateral CVA model: \n",
    "\n",
    "$$\n",
    "{CVA}_{t} = \\mathbb{E}_t [ \\mathbb{1} \\{\\tau \\leq T  \\}  L_{\\tau} D(t,T) ]\n",
    "$$\n",
    "\n",
    "where $L_{t}$ is the loss, given default rate $R$ and a derivative contract with value $X_t$ at time $t$.  $D(t,T)$ is the time discount factor. \n",
    "\n",
    "$$\n",
    "L_{t}= (1-R) \\cdot max(X_t,0)\n",
    "$$\n",
    "\n",
    "A model for counterparty default is the stochastic intensity model.  Given a constant default intensity $\\lambda^{\\tau}$, the probability of default before time $t$ is\n",
    "\n",
    "$$\n",
    "P(\\tau \\leq t) = 1- e^{-\\lambda^{\\tau} \\cdot t}\n",
    "$$\n",
    "\n"
   ]
  },
  {
   "cell_type": "markdown",
   "metadata": {},
   "source": [
    "#### To Simulate the default times by Monte Carlo with Importance Sampling:"
   ]
  },
  {
   "cell_type": "markdown",
   "metadata": {},
   "source": [
    "The idea is to exclude the default times after expiration. Thus, by inverse transform sampling, \n",
    "$$\n",
    "\\tau^i =  -\\frac{log(1-u)}{\\lambda^{\\tau}} \n",
    "$$\n",
    "\n",
    "where $u$ follows uniform distribution of $(0,P(\\tau \\leq T))$.\n",
    "\n",
    "Then the new $CVA$ formula becomes:\n",
    "\n",
    "$$\n",
    "CVA_t = (\\frac{1}{n} \\sum_{i}^{n} L_{\\tau^{i}}^{i}  D_{t,\\tau^{i}}) \\cdot P(\\tau \\leq T)\n",
    "$$"
   ]
  },
  {
   "cell_type": "markdown",
   "metadata": {},
   "source": [
    "#### Since we want to price an FX Forward CVA, let the FX Forward be priced in the following way:\n",
    "$$X_t= X_0 \\cdot \\frac{Bond^{foreign}}{Bond^{domestic}}$$\n",
    "where the bond price follows Vasicek model."
   ]
  },
  {
   "cell_type": "code",
   "execution_count": 1,
   "metadata": {},
   "outputs": [],
   "source": [
    "import numpy as np\n",
    "import statistics\n",
    "import pandas as pd\n",
    "import time"
   ]
  },
  {
   "cell_type": "code",
   "execution_count": 2,
   "metadata": {},
   "outputs": [],
   "source": [
    "# initialize values\n",
    "class Dynamics:\n",
    "    pass\n",
    "domestics_bond = Dynamics()\n",
    "domestics_bond.r0 = 0.04\n",
    "domestics_bond.theta = 3\n",
    "domestics_bond.mu = 0.05\n",
    "domestics_bond.sigma = 0.08\n",
    "\n",
    "foreign_bond = Dynamics()\n",
    "foreign_bond.r0 = 0.10\n",
    "foreign_bond.theta = 4\n",
    "foreign_bond.mu = 0.08\n",
    "foreign_bond.sigma = 0.12\n",
    "\n",
    "class Player:\n",
    "    pass\n",
    "\n",
    "counter_party = Player()\n",
    "counter_party.def_intensity = 0.05 # 0.05?\n",
    "counter_party.recovery_rate = 0.3\n",
    "\n",
    "class Contract:\n",
    "    pass\n",
    "\n",
    "contract = Contract()\n",
    "contract.T = 1 \n",
    "\n",
    "class MC:\n",
    "    pass\n",
    "\n",
    "MonteCarlo=MC()\n",
    "MonteCarlo.N = 500   # Number of timesteps on each path\n",
    "MonteCarlo.M = 500  # Number of paths.  Change this if necessary.\n",
    "MonteCarlo.seed = 0"
   ]
  },
  {
   "cell_type": "code",
   "execution_count": 3,
   "metadata": {},
   "outputs": [],
   "source": [
    "# To calculate probability of default given default intensity lambda, before expiration:\n",
    "def default_probability(Player,contract):\n",
    "    \n",
    "    return 1- np.exp(-Player.def_intensity*contract.T)"
   ]
  },
  {
   "cell_type": "code",
   "execution_count": 4,
   "metadata": {},
   "outputs": [],
   "source": [
    "# To simulate m default times\n",
    "\n",
    "def default_time_importance_sampling(MC, player, contract):\n",
    "    lmbd=player.def_intensity \n",
    "    tau=np.zeros(MC.M)\n",
    "    P=default_probability(player,contract)\n",
    "    for i in range(MC.M):\n",
    "        u = np.random.uniform(0, P)\n",
    "        tau[i]= -(1/lmbd)* np.log(1-u)\n",
    "    return tau"
   ]
  },
  {
   "cell_type": "code",
   "execution_count": 5,
   "metadata": {},
   "outputs": [],
   "source": [
    "def vasicek(dynamics,contract, N=1000, seed=777, simulations=10000):    \n",
    "    #np.random.seed(seed)\n",
    "    r0,theta,mu,sigma,T=dynamics.r0,dynamics.theta,dynamics.mu,dynamics.sigma, contract.T\n",
    "    dt = T/float(N)\n",
    "    mean_vasicek=lambda t:np.exp(-theta*t)*(r0+mu*(np.exp(theta*t)-1))\n",
    "    var_vasicek=lambda t:((1-np.exp(-2*theta*t))/2*theta)*sigma**2\n",
    "    normal_matrix=np.random.standard_normal(size=(simulations,N+1))\n",
    "    rates_paths=np.add(np.array([mean_vasicek(dt*t_) for t_ in range(N+1)]),np.sqrt([var_vasicek(dt*t_) for t_ in range(N+1)])*normal_matrix)\n",
    "        \n",
    "    return [x*dt for x in range(N+1)], rates_paths"
   ]
  },
  {
   "cell_type": "code",
   "execution_count": 6,
   "metadata": {},
   "outputs": [],
   "source": [
    "# def pricer_bond_vasicek_MonteCarlo(dynamics,contract,N=1000, seed=777, simulations=10000):\n",
    "#     t,rates=vasicek(dynamics,contract,N=N, seed=seed, simulations=simulations)\n",
    "#     num_paths=len(rates)\n",
    "#     dt=t[1]\n",
    "#     exp_integrals=[np.exp(-(np.array(rates[i])*dt).sum()) for i in range(num_paths)]\n",
    "        \n",
    "#     return np.mean(exp_integrals)"
   ]
  },
  {
   "cell_type": "code",
   "execution_count": 7,
   "metadata": {},
   "outputs": [],
   "source": [
    "def MC_Uni_CVA(X0,dynamics_domestic,dynamics_foreign, contract, MC, player):\n",
    "    R= player.recovery_rate\n",
    "    P=default_probability(player,contract)\n",
    "    tau=default_time_importance_sampling(MC, player, contract) # generate M tau's.\n",
    "    \n",
    "    t, rate_foreign=vasicek(dynamics_foreign,contract,N=MC.N, seed=777, simulations=MC.M)\n",
    "    t, rate_domestic=vasicek(dynamics_domestic,contract,N=MC.N, seed=777, simulations=MC.M)\n",
    "    \n",
    "    L=np.zeros(MC.M)\n",
    "    V=np.zeros(MC.M)\n",
    "    for i in range(MC.M):\n",
    "        \n",
    "        \n",
    "        #bond_foreign= pricer_bond_vasicek_MonteCarlo(dynamics_foreign,contract,N=1000, seed=777, simulations=100000)\n",
    "        #bond_domestic= pricer_bond_vasicek_MonteCarlo(dynamics_domestic,contract,N=1000, seed=777, simulations=100000)\n",
    "        #V[i]=bond_foreign[-1]*np.exp(-rate_foreign[-1]*tau[i] )/(bond_domestic[-1]*np.exp(-rate_domestic[-1]*tau[i] ))\n",
    "        \n",
    "        index_f=np.argwhere(abs(t-tau[i])< 0.1)[0][0]\n",
    "        index_d=np.argwhere(abs(t-tau[i])< 0.1)[0][0]\n",
    "        default_index= index_f if index_f< index_d else index_d\n",
    "        \n",
    "        ##num_paths=len(t) - default_index\n",
    "        #print(default_index)\n",
    "        #print(num_paths)\n",
    "        \n",
    "        rate_f= np.mean(rate_foreign,axis=0)[default_index]\n",
    "        rate_d= np.mean(rate_domestic,axis=0)[default_index]\n",
    "        #rate_d= np.mean(rate_domestic[j][default_index])\n",
    "        dt=t[1]\n",
    "        exp_integrals_f=[np.exp(-(np.array(rate_foreign[i][default_index:-1])*dt).sum()) for i in range(MC.M)]\n",
    "        #print(len(exp_integrals_f))\n",
    "        bond_foreign=np.mean(exp_integrals_f) # bond value at time of default\n",
    "        exp_integrals_d=[np.exp(-(np.array(rate_domestic[i][default_index:-1])*dt).sum()) for i in range(MC.M)]\n",
    "        #print(len(exp_integrals_d))\n",
    "        bond_domestic=np.mean(exp_integrals_d) # bond value at time of default\n",
    "        V[i]=X0* bond_foreign*np.exp(-rate_f*tau[i] )/(bond_domestic*np.exp(-rate_d*tau[i] )) # discounted price of bond expires at T\n",
    "        L[i]=(1-R)*np.max( V[i],0)\n",
    "        \n",
    "    CVA_0= np.mean(L[i])* P\n",
    "    std_err= statistics.stdev(L)/np.sqrt(MC.M)\n",
    "    return CVA_0, std_err\n",
    "    \n",
    "    "
   ]
  },
  {
   "cell_type": "code",
   "execution_count": 8,
   "metadata": {},
   "outputs": [],
   "source": [
    "CVA,std_err=MC_Uni_CVA(X0=1.3, dynamics_domestic=domestics_bond,dynamics_foreign=foreign_bond, contract=contract, MC=MonteCarlo, player=counter_party)"
   ]
  },
  {
   "cell_type": "code",
   "execution_count": 9,
   "metadata": {},
   "outputs": [
    {
     "name": "stdout",
     "output_type": "stream",
     "text": [
      "CVA of this FX forward is 0.0432\n",
      "The standard error of Monte Carlo estimation is 0.0002380\n"
     ]
    }
   ],
   "source": [
    "print(\"CVA of this FX forward is %.4f\" %CVA)\n",
    "print(\"The standard error of Monte Carlo estimation is %.7f\" %std_err)"
   ]
  },
  {
   "cell_type": "code",
   "execution_count": null,
   "metadata": {},
   "outputs": [],
   "source": []
  },
  {
   "cell_type": "code",
   "execution_count": 10,
   "metadata": {},
   "outputs": [],
   "source": [
    "N=[100,500,1000,5000,10000]\n",
    "M=[100,500,1000,5000,10000]\n",
    "df=pd.DataFrame()\n",
    "for n in N:\n",
    "    for m in M:\n",
    "        MonteCarlo.N=n\n",
    "        MonteCarlo.M=m\n",
    "        start= time.process_time()\n",
    "        CVA,std_err=MC_Uni_CVA(X0=1.3, dynamics_domestic=domestics_bond,dynamics_foreign=foreign_bond, contract=contract, MC=MonteCarlo, player=counter_party)\n",
    "        end=time.process_time()\n",
    "        timeval=end-start\n",
    "        cell=\"{:.2f}s/{:.4f}%\".format(timeval, std_err*100)\n",
    "        df.loc[n,m]=cell\n"
   ]
  },
  {
   "cell_type": "code",
   "execution_count": 11,
   "metadata": {},
   "outputs": [
    {
     "data": {
      "text/html": [
       "<div>\n",
       "<style scoped>\n",
       "    .dataframe tbody tr th:only-of-type {\n",
       "        vertical-align: middle;\n",
       "    }\n",
       "\n",
       "    .dataframe tbody tr th {\n",
       "        vertical-align: top;\n",
       "    }\n",
       "\n",
       "    .dataframe thead th {\n",
       "        text-align: right;\n",
       "    }\n",
       "</style>\n",
       "<table border=\"1\" class=\"dataframe\">\n",
       "  <thead>\n",
       "    <tr style=\"text-align: right;\">\n",
       "      <th></th>\n",
       "      <th>100</th>\n",
       "      <th>500</th>\n",
       "      <th>1000</th>\n",
       "      <th>5000</th>\n",
       "      <th>10000</th>\n",
       "    </tr>\n",
       "  </thead>\n",
       "  <tbody>\n",
       "    <tr>\n",
       "      <td>100</td>\n",
       "      <td>0.19s/0.0975%</td>\n",
       "      <td>3.81s/0.0248%</td>\n",
       "      <td>15.88s/0.0130%</td>\n",
       "      <td>370.34s/0.0041%</td>\n",
       "      <td>1397.20s/0.0028%</td>\n",
       "    </tr>\n",
       "    <tr>\n",
       "      <td>500</td>\n",
       "      <td>0.19s/0.0958%</td>\n",
       "      <td>4.08s/0.0230%</td>\n",
       "      <td>15.95s/0.0124%</td>\n",
       "      <td>460.84s/0.0043%</td>\n",
       "      <td>1824.78s/0.0028%</td>\n",
       "    </tr>\n",
       "    <tr>\n",
       "      <td>1000</td>\n",
       "      <td>0.30s/0.0970%</td>\n",
       "      <td>5.47s/0.0243%</td>\n",
       "      <td>22.44s/0.0123%</td>\n",
       "      <td>512.66s/0.0041%</td>\n",
       "      <td>1924.73s/0.0028%</td>\n",
       "    </tr>\n",
       "    <tr>\n",
       "      <td>5000</td>\n",
       "      <td>0.45s/0.1023%</td>\n",
       "      <td>8.45s/0.0250%</td>\n",
       "      <td>33.45s/0.0130%</td>\n",
       "      <td>824.30s/0.0042%</td>\n",
       "      <td>3297.31s/0.0028%</td>\n",
       "    </tr>\n",
       "    <tr>\n",
       "      <td>10000</td>\n",
       "      <td>0.73s/0.1037%</td>\n",
       "      <td>13.55s/0.0239%</td>\n",
       "      <td>52.91s/0.0117%</td>\n",
       "      <td>1282.28s/0.0042%</td>\n",
       "      <td>5124.67s/0.0028%</td>\n",
       "    </tr>\n",
       "  </tbody>\n",
       "</table>\n",
       "</div>"
      ],
      "text/plain": [
       "               100             500             1000              5000   \\\n",
       "100    0.19s/0.0975%   3.81s/0.0248%  15.88s/0.0130%   370.34s/0.0041%   \n",
       "500    0.19s/0.0958%   4.08s/0.0230%  15.95s/0.0124%   460.84s/0.0043%   \n",
       "1000   0.30s/0.0970%   5.47s/0.0243%  22.44s/0.0123%   512.66s/0.0041%   \n",
       "5000   0.45s/0.1023%   8.45s/0.0250%  33.45s/0.0130%   824.30s/0.0042%   \n",
       "10000  0.73s/0.1037%  13.55s/0.0239%  52.91s/0.0117%  1282.28s/0.0042%   \n",
       "\n",
       "                  10000  \n",
       "100    1397.20s/0.0028%  \n",
       "500    1824.78s/0.0028%  \n",
       "1000   1924.73s/0.0028%  \n",
       "5000   3297.31s/0.0028%  \n",
       "10000  5124.67s/0.0028%  "
      ]
     },
     "execution_count": 11,
     "metadata": {},
     "output_type": "execute_result"
    }
   ],
   "source": [
    "df"
   ]
  },
  {
   "cell_type": "code",
   "execution_count": null,
   "metadata": {},
   "outputs": [],
   "source": []
  }
 ],
 "metadata": {
  "kernelspec": {
   "display_name": "Python 3",
   "language": "python",
   "name": "python3"
  },
  "language_info": {
   "codemirror_mode": {
    "name": "ipython",
    "version": 3
   },
   "file_extension": ".py",
   "mimetype": "text/x-python",
   "name": "python",
   "nbconvert_exporter": "python",
   "pygments_lexer": "ipython3",
   "version": "3.7.4"
  }
 },
 "nbformat": 4,
 "nbformat_minor": 2
}
